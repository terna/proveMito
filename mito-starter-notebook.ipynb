{
 "cells": [
  {
   "cell_type": "markdown",
   "id": "stopped-framework",
   "metadata": {},
   "source": [
    "https://medium.com/geekculture/goodbye-excel-hello-spreadsheets-in-python-df41408dafd4\n",
    "\n",
    "https://docs.trymito.io\n",
    "\n",
    "https://nbviewer.org/github/terna/proveMito/blob/main/mito-starter-notebook.ipynb"
   ]
  },
  {
   "cell_type": "code",
   "execution_count": 1,
   "id": "c0957234-ba57-4199-adfa-9d17ede0b8f9",
   "metadata": {},
   "outputs": [
    {
     "data": {
      "application/vnd.jupyter.widget-view+json": {
       "model_id": "edd46525cccb4addae9af5c039004abe",
       "version_major": 2,
       "version_minor": 0
      },
      "text/plain": [
       "MitoWidget(analysis_data_json='{\"analysisName\": \"id-wavxywfpra\", \"analysisToReplay\": {\"analysisName\": \"id-ryjz…"
      ]
     },
     "metadata": {},
     "output_type": "display_data"
    }
   ],
   "source": [
    "# Run this cell to render a mitosheet\n",
    "# See mito's documentation here: https://docs.trymito.io/how-to/creating-a-mitosheet\n",
    "# Join our Discord for support here: https://discord.gg/XdJSZyejJU\n",
    "\n",
    "import mitosheet\n",
    "mitosheet.sheet(analysis_to_replay=\"id-ryjzmpnwwq\")"
   ]
  },
  {
   "cell_type": "code",
   "execution_count": null,
   "id": "7aefcf38-d8e6-482a-9d09-22207c07855b",
   "metadata": {},
   "outputs": [],
   "source": [
    "from mitosheet import *; register_analysis(\"id-ryjzmpnwwq\");\n",
    "    \n",
    "# Imported StudentsPerformance.csv\n",
    "import pandas as pd\n",
    "StudentsPerformance = pd.read_csv(r'StudentsPerformance.csv')\n",
    "\n",
    "# Imported StudentsPerformance.csv\n",
    "import pandas as pd\n",
    "StudentsPerformance_1 = pd.read_csv(r'StudentsPerformance.csv')\n"
   ]
  }
 ],
 "metadata": {
  "kernelspec": {
   "display_name": "Python 3",
   "language": "python",
   "name": "python3"
  },
  "language_info": {
   "codemirror_mode": {
    "name": "ipython",
    "version": 3
   },
   "file_extension": ".py",
   "mimetype": "text/x-python",
   "name": "python",
   "nbconvert_exporter": "python",
   "pygments_lexer": "ipython3",
   "version": "3.9.7"
  },
  "widgets": {
   "application/vnd.jupyter.widget-state+json": {
    "state": {},
    "version_major": 2,
    "version_minor": 0
   }
  }
 },
 "nbformat": 4,
 "nbformat_minor": 5
}
